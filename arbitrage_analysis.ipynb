{
 "cells": [
  {
   "cell_type": "code",
   "execution_count": 3,
   "id": "43c70610-9b36-4a52-82a7-377294a3eaf2",
   "metadata": {},
   "outputs": [],
   "source": [
    "import pandas as pd\n",
    "from datetime import date"
   ]
  },
  {
   "cell_type": "code",
   "execution_count": 4,
   "id": "1e1bc8d1-39a1-4b96-8d06-0f2c38f259fc",
   "metadata": {},
   "outputs": [],
   "source": [
    "data = pd.read_excel(\"ERCOT_Hist_Pricing.xlsx\",sheet_name=None)"
   ]
  },
  {
   "cell_type": "code",
   "execution_count": 5,
   "id": "188b61aa-b9b3-4476-b2d0-3459ab4b3858",
   "metadata": {},
   "outputs": [],
   "source": [
    "data = pd.concat(data)"
   ]
  },
  {
   "cell_type": "code",
   "execution_count": 6,
   "id": "1921d08e-c3a7-4c6e-b1f6-b58460d34ca0",
   "metadata": {},
   "outputs": [],
   "source": [
    "data = data.drop(columns=['Delivery Interval','Repeated Hour Flag'])"
   ]
  },
  {
   "cell_type": "code",
   "execution_count": 7,
   "id": "a1d5d540-afb1-43ae-94f9-123711295deb",
   "metadata": {},
   "outputs": [
    {
     "data": {
      "text/plain": [
       "array(['HB_BUSAVG', 'HB_HOUSTON', 'HB_HUBAVG', 'HB_NORTH', 'HB_PAN',\n",
       "       'HB_SOUTH', 'HB_WEST', 'LZ_AEN', 'LZ_CPS', 'LZ_HOUSTON', 'LZ_LCRA',\n",
       "       'LZ_NORTH', 'LZ_RAYBN', 'LZ_SOUTH', 'LZ_WEST'], dtype=object)"
      ]
     },
     "execution_count": 7,
     "metadata": {},
     "output_type": "execute_result"
    }
   ],
   "source": [
    "pd.unique(data['Settlement Point Name'])"
   ]
  },
  {
   "cell_type": "code",
   "execution_count": 8,
   "id": "388a6367-b3b6-4b7d-b65c-1b9339ab5b0e",
   "metadata": {},
   "outputs": [],
   "source": [
    "houston = data[data['Settlement Point Name']=='HB_HOUSTON']"
   ]
  },
  {
   "cell_type": "code",
   "execution_count": 9,
   "id": "491d0813-a4a5-4198-93e1-42fdfd77a444",
   "metadata": {},
   "outputs": [],
   "source": [
    "north = data[data['Settlement Point Name']=='HB_NORTH']"
   ]
  },
  {
   "cell_type": "code",
   "execution_count": 10,
   "id": "71cf5d51-8e6b-4932-b9d8-fd36171af241",
   "metadata": {},
   "outputs": [],
   "source": [
    "pan = data[data['Settlement Point Name']=='HB_PAN']"
   ]
  },
  {
   "cell_type": "code",
   "execution_count": 11,
   "id": "65a8ac3f-b1a9-4ddb-9d31-a2994158cc78",
   "metadata": {},
   "outputs": [],
   "source": [
    "south = data[data['Settlement Point Name']=='HB_SOUTH']"
   ]
  },
  {
   "cell_type": "code",
   "execution_count": 12,
   "id": "93d48adb-4f9e-4f35-bd9f-5d0631a80170",
   "metadata": {},
   "outputs": [],
   "source": [
    "west = data[data['Settlement Point Name']=='HB_WEST']"
   ]
  },
  {
   "cell_type": "code",
   "execution_count": 13,
   "id": "84a3ce60-2a30-4571-9c12-e073c9e6d4ef",
   "metadata": {},
   "outputs": [
    {
     "data": {
      "text/plain": [
       "Index(['Delivery Date', 'Delivery Hour', 'Settlement Point Name',\n",
       "       'Settlement Point Type', 'Settlement Point Price'],\n",
       "      dtype='object')"
      ]
     },
     "execution_count": 13,
     "metadata": {},
     "output_type": "execute_result"
    }
   ],
   "source": [
    "houston.columns"
   ]
  },
  {
   "cell_type": "code",
   "execution_count": 14,
   "id": "1c6af6dc-b2c5-414c-a601-27828d2bab60",
   "metadata": {},
   "outputs": [],
   "source": [
    "days = set(data['Delivery Date'])"
   ]
  },
  {
   "cell_type": "code",
   "execution_count": 15,
   "id": "17d26eec-aaee-4946-85fc-baa42f792585",
   "metadata": {},
   "outputs": [],
   "source": [
    "daily_peaks = []"
   ]
  },
  {
   "cell_type": "code",
   "execution_count": 16,
   "id": "0c52771f-b304-4883-ba11-a0d4b3f77290",
   "metadata": {},
   "outputs": [],
   "source": [
    "def getPeaks(df,arr):\n",
    "\n",
    "    for day in days:\n",
    "        prices = df[df['Delivery Date']==day]['Settlement Point Price']\n",
    "        spread = prices.max()-prices.min()\n",
    "        pair = (day,spread)\n",
    "        arr.append(pair)\n",
    "    "
   ]
  },
  {
   "cell_type": "code",
   "execution_count": 17,
   "id": "67587414-1c60-48f3-99f3-cd13113cb1a5",
   "metadata": {},
   "outputs": [],
   "source": [
    "houston_peaks =[]"
   ]
  },
  {
   "cell_type": "code",
   "execution_count": 18,
   "id": "de9fd469-e7ca-4cc5-8408-4384a64eaf9f",
   "metadata": {},
   "outputs": [],
   "source": [
    "getPeaks(houston,houston_peaks)"
   ]
  },
  {
   "cell_type": "code",
   "execution_count": 19,
   "id": "d1487532-b96e-46f8-a83e-e3eb2ecf7a04",
   "metadata": {},
   "outputs": [],
   "source": [
    "houston_peaks = pd.DataFrame(houston_peaks,columns = ['date','spread'])"
   ]
  },
  {
   "cell_type": "code",
   "execution_count": 20,
   "id": "15042347-5a27-4081-bbdd-7bf30f58ada6",
   "metadata": {},
   "outputs": [],
   "source": [
    "houston_peaks.sort_values('date', inplace=True)"
   ]
  },
  {
   "cell_type": "code",
   "execution_count": 21,
   "id": "f6d6aa1a-7b78-48fa-921c-d4bb9a9c4424",
   "metadata": {},
   "outputs": [
    {
     "data": {
      "text/plain": [
       "63247.0"
      ]
     },
     "execution_count": 21,
     "metadata": {},
     "output_type": "execute_result"
    }
   ],
   "source": [
    "houston_peaks['spread'].sum()"
   ]
  },
  {
   "cell_type": "code",
   "execution_count": 22,
   "id": "d2c92784-7ddf-48a0-b1e2-71aee76dd533",
   "metadata": {},
   "outputs": [],
   "source": [
    "north_spread = []\n",
    "pan_spread = []\n",
    "west_spread = []\n",
    "south_spread = []"
   ]
  },
  {
   "cell_type": "code",
   "execution_count": 23,
   "id": "ccfdc74e-323e-4ade-a0ed-1ae9382952d0",
   "metadata": {},
   "outputs": [],
   "source": [
    "getPeaks(north,north_spread)\n",
    "getPeaks(pan,pan_spread)\n",
    "getPeaks(west,west_spread)\n",
    "getPeaks(south,south_spread)"
   ]
  },
  {
   "cell_type": "code",
   "execution_count": 24,
   "id": "e4e90c1b-2ec2-4f4d-b862-9e47a7fe1a27",
   "metadata": {},
   "outputs": [],
   "source": [
    "def volumeFinder(arr):\n",
    "    total = 0\n",
    "    for day in arr:\n",
    "       total += day[1]\n",
    "    return total"
   ]
  },
  {
   "cell_type": "code",
   "execution_count": 25,
   "id": "79c5006e-337e-444f-8827-a7f8e4550062",
   "metadata": {},
   "outputs": [
    {
     "name": "stdout",
     "output_type": "stream",
     "text": [
      "64692.71999999998\n",
      "66444.13999999998\n",
      "70603.45000000003\n",
      "63499.23999999999\n"
     ]
    }
   ],
   "source": [
    "print(volumeFinder(north_spread))\n",
    "print(volumeFinder(pan_spread))\n",
    "print(volumeFinder(west_spread))\n",
    "print(volumeFinder(south_spread))"
   ]
  },
  {
   "cell_type": "code",
   "execution_count": 52,
   "id": "25c48802-5ea5-47ca-bbca-9c1ec642d058",
   "metadata": {},
   "outputs": [
    {
     "data": {
      "text/plain": [
       "0.06259859785979685"
      ]
     },
     "execution_count": 52,
     "metadata": {},
     "output_type": "execute_result"
    }
   ],
   "source": [
    "(volumeFinder(west_spread)-volumeFinder(pan_spread))/volumeFinder(pan_spread)"
   ]
  },
  {
   "cell_type": "code",
   "execution_count": null,
   "id": "994d7f2c-5f93-46e4-aa12-e0945c1ac92e",
   "metadata": {},
   "outputs": [],
   "source": []
  }
 ],
 "metadata": {
  "kernelspec": {
   "display_name": "Python [conda env:base] *",
   "language": "python",
   "name": "conda-base-py"
  },
  "language_info": {
   "codemirror_mode": {
    "name": "ipython",
    "version": 3
   },
   "file_extension": ".py",
   "mimetype": "text/x-python",
   "name": "python",
   "nbconvert_exporter": "python",
   "pygments_lexer": "ipython3",
   "version": "3.12.7"
  }
 },
 "nbformat": 4,
 "nbformat_minor": 5
}
